{
 "cells": [
  {
   "cell_type": "markdown",
   "id": "191f7da1-c464-4e21-b904-f90b74bfb301",
   "metadata": {},
   "source": [
    "# 00 IMPORTS\n",
    "\n",
    "Import all relevant libraries for later use."
   ]
  },
  {
   "cell_type": "code",
   "execution_count": 2,
   "id": "28fba5db-4797-4ae0-a762-1fa853eb1a25",
   "metadata": {},
   "outputs": [],
   "source": [
    "from flask import Flask, render_template, request, jsonify\n",
    "from werkzeug.utils import secure_filename\n",
    "import os\n",
    "from openai import OpenAI\n",
    "import base64\n",
    "import requests\n",
    "from time import sleep"
   ]
  },
  {
   "cell_type": "markdown",
   "id": "635c011a-07de-40eb-b950-f40771e8500d",
   "metadata": {},
   "source": [
    "# 01 FUNCTIONS\n",
    "\n",
    "Define all helper functions for later use."
   ]
  },
  {
   "cell_type": "code",
   "execution_count": 3,
   "id": "09face71-8b8a-40dc-875c-dc06c62cd828",
   "metadata": {},
   "outputs": [],
   "source": [
    "# FUNCTION TO OPEN FILES\n",
    "def open_file(filepath):\n",
    "    with open(filepath, 'r', encoding='utf-8') as infile:\n",
    "        return infile.read()\n",
    "    \n",
    "# Funktion, um Files zu speichern\n",
    "def save_file(filepath, content):\n",
    "    with open(filepath, 'w', encoding='utf-8') as outfile:\n",
    "        outfile.write(content)\n",
    "    \n",
    "# FUNCTION TO DECODE FILES\n",
    "def encode_image(image_path):\n",
    "  with open(image_path, \"rb\") as image_file:\n",
    "    return base64.b64encode(image_file.read()).decode('utf-8')"
   ]
  },
  {
   "cell_type": "markdown",
   "id": "9a05f418-3385-4b72-a52c-678a7ad33dff",
   "metadata": {},
   "source": [
    "# 02 FLASK APP & CREDENTIALS\n",
    "\n",
    "Define app, credentials and relevant files for API calls."
   ]
  },
  {
   "cell_type": "code",
   "execution_count": 4,
   "id": "2209bef2-68db-4e77-8356-8fb0987d3b40",
   "metadata": {},
   "outputs": [],
   "source": [
    "# FLASK APP\n",
    "app = Flask(__name__)\n",
    "app.config['UPLOAD_FOLDER'] = 'uploads/'\n",
    "app.config['MAX_CONTENT_LENGTH'] = 16 * 1024 * 1024\n",
    "\n",
    "# CREDENTIALS\n",
    "client = OpenAI(api_key=open_file('keys/openaiapikey.txt'))\n",
    "system = open_file('prompts/system.txt')\n",
    "user = open_file('prompts/user.txt')\n",
    "model=\"gpt-4-turbo-2024-04-09\"\n",
    "api_key = open_file('keys/openaiapikey.txt')"
   ]
  },
  {
   "cell_type": "markdown",
   "id": "ca6da826-b348-40c3-867f-0308693c0417",
   "metadata": {},
   "source": [
    "# 03 API CALLS\n",
    "\n",
    "Define functions to call OpenAI API (text and vision)."
   ]
  },
  {
   "cell_type": "code",
   "execution_count": 5,
   "id": "8579c2cb-3ca4-4c17-b08f-30cb0b87fee2",
   "metadata": {},
   "outputs": [],
   "source": [
    "# FUNCTION TO CALL GPT CHATMODEL\n",
    "def chatbot(messages, model=\"gpt-4-turbo-preview\"):\n",
    "    max_retry = 7\n",
    "    retry = 0\n",
    "    while True:\n",
    "        try:\n",
    "            response = client.chat.completions.create(model=model, messages=messages, temperature=0, max_tokens=1000, top_p=1, frequency_penalty=0, presence_penalty=0)\n",
    "            text = response.choices[0].message.content\n",
    "            return text\n",
    "        except Exception as oops:\n",
    "            print(f'\\n\\nError communicating with OpenAI: \"{oops}\"')\n",
    "            if 'maximum context length' in str(oops):\n",
    "                print('\\n\\n DEBUG: Trimming oldest message')\n",
    "                continue\n",
    "            retry += 1\n",
    "            if retry >= max_retry:\n",
    "                print(f\"\\n\\nExiting due to excessive errors in API: {oops}\")\n",
    "                exit(1)\n",
    "            print(f'\\n\\nRetrying in {2 ** (retry - 1) * 5} seconds...')\n",
    "            sleep(2 ** (retry - 1) * 5)\n",
    "\n",
    "# FUNCTION TO GPT-4 VISION\n",
    "def gpt4_vision(filepath, user_input):\n",
    "    \n",
    "    # DECODE IMAGE\n",
    "    base64_image = encode_image(filepath)\n",
    "    user_request = f\"Das ist der Inhalt meines Kühlschrankes. {user_input}. Was fehlt mir dazu noch?\"\n",
    "    print(user_request)\n",
    "    \n",
    "    # GPT4 VISION\n",
    "    headers = {\"Content-Type\": \"application/json\", \"Authorization\": f\"Bearer {api_key}\"}\n",
    "    payload = {\"model\": model, \"messages\": [{\"role\": \"user\", \"content\": [{\"type\": \"text\", \"text\": user_request},\n",
    "                                                                          {\"type\": \"image_url\",\"image_url\": {\"url\": f\"data:image/jpeg;base64,{base64_image}\"}\n",
    "                                                                           }]}],\n",
    "               \"max_tokens\": 500, \"temperature\": 0\n",
    "    }\n",
    "    \n",
    "    response = requests.post(\"https://api.openai.com/v1/chat/completions\", headers=headers, json=payload)\n",
    "\n",
    "    # PARSE JSON RESPONSE\n",
    "    response_json = response.json()\n",
    "    message_content = response_json['choices'][0]['message']['content']\n",
    "    \n",
    "    return message_content"
   ]
  },
  {
   "cell_type": "markdown",
   "id": "dd7399ec-c96a-4742-802b-b3cddf848364",
   "metadata": {},
   "source": [
    "# 04 FLASK ROUTES\n",
    "\n",
    "Define FLASK routes for Template, Text Input and Image Input."
   ]
  },
  {
   "cell_type": "code",
   "execution_count": 6,
   "id": "ed85f517-d2a8-48e8-9893-f149e16542bc",
   "metadata": {},
   "outputs": [],
   "source": [
    "@app.route(\"/\")\n",
    "def index():\n",
    "\n",
    "    return render_template(\"index.html\")\n",
    "\n",
    "@app.route('/get', methods=['POST'])\n",
    "def get_bot_response():\n",
    "    \n",
    "    # USER INPUT EINLESEN\n",
    "    user_input = request.json['message']\n",
    "    \n",
    "    # PROMT ERSTELLEN\n",
    "    message = [{'role': 'system', 'content': system}, {'role': 'user', 'content': user_input}]\n",
    "    gpt_response = chatbot(message)\n",
    "    \n",
    "    # USER_INPUT SPEICHERN\n",
    "    save_file('prompts/user_input.txt', user_input)\n",
    "    \n",
    "    # RESPONSE ZURÜCKGEBEN\n",
    "    return jsonify(message=gpt_response)\n",
    "\n",
    "@app.route('/upload', methods=['POST'])\n",
    "def upload_file():\n",
    "    \n",
    "    user_input = open_file('prompts/user_input.txt')\n",
    "    \n",
    "    if 'file' not in request.files:\n",
    "        return jsonify(message=\"No file part\")\n",
    "    file = request.files['file']\n",
    "    if file.filename == '':\n",
    "        return jsonify(message=\"No selected file\")\n",
    "    \n",
    "    if file:\n",
    "        filename = secure_filename(file.filename)\n",
    "        filepath = os.path.join(app.config['UPLOAD_FOLDER'], filename)\n",
    "        file.save(filepath)\n",
    "        \n",
    "        # Call GPT-4 Vision and add header\n",
    "        recipe = gpt4_vision(filepath, user_input)\n",
    "        print(recipe)\n",
    "        \n",
    "        return jsonify(message=recipe)\n",
    "    \n",
    "    return jsonify(message=\"Something went wrong\")"
   ]
  },
  {
   "cell_type": "markdown",
   "id": "4112d74e-d6aa-40d5-91c8-50d530812878",
   "metadata": {},
   "source": [
    "# 05 START THE APP\n",
    "\n",
    "Run the application on port 8082 (just a random port)."
   ]
  },
  {
   "cell_type": "code",
   "execution_count": 6,
   "id": "5245bb7b-d752-49a4-8fab-120fb451726b",
   "metadata": {},
   "outputs": [
    {
     "name": "stdout",
     "output_type": "stream",
     "text": [
      " * Serving Flask app '__main__'\n",
      " * Debug mode: off\n"
     ]
    },
    {
     "name": "stderr",
     "output_type": "stream",
     "text": [
      "WARNING: This is a development server. Do not use it in a production deployment. Use a production WSGI server instead.\n",
      " * Running on http://127.0.0.1:8082\n",
      "Press CTRL+C to quit\n",
      "127.0.0.1 - - [23/Apr/2024 14:40:10] \"GET / HTTP/1.1\" 200 -\n",
      "127.0.0.1 - - [23/Apr/2024 14:40:10] \"GET /static/css/style_static_V4.css HTTP/1.1\" 304 -\n",
      "127.0.0.1 - - [23/Apr/2024 14:40:10] \"GET /static/js/chat_V4.js HTTP/1.1\" 304 -\n",
      "127.0.0.1 - - [23/Apr/2024 14:40:10] \"GET /static/images/cook-icon.png HTTP/1.1\" 200 -\n",
      "127.0.0.1 - - [23/Apr/2024 14:40:10] \"GET /static/fonts/Korb-Bold.woff2 HTTP/1.1\" 304 -\n",
      "127.0.0.1 - - [23/Apr/2024 14:40:22] \"GET /static/images/user-icon.png HTTP/1.1\" 200 -\n",
      "127.0.0.1 - - [23/Apr/2024 14:40:22] \"GET /static/fonts/SourceSansPro-Bold.woff2 HTTP/1.1\" 200 -\n",
      "127.0.0.1 - - [23/Apr/2024 14:40:22] \"GET /static/fonts/SourceSansPro-Regular.woff2 HTTP/1.1\" 200 -\n",
      "127.0.0.1 - - [23/Apr/2024 14:40:25] \"POST /get HTTP/1.1\" 200 -\n"
     ]
    },
    {
     "name": "stdout",
     "output_type": "stream",
     "text": [
      "Das ist der Inhalt meines Kühlschrankes. I will einen Truthahn machen.. Was fehlt mir dazu noch?\n"
     ]
    },
    {
     "name": "stderr",
     "output_type": "stream",
     "text": [
      "127.0.0.1 - - [23/Apr/2024 14:40:52] \"POST /upload HTTP/1.1\" 200 -\n"
     ]
    },
    {
     "name": "stdout",
     "output_type": "stream",
     "text": [
      "Um einen Truthahn zuzubereiten, hast du bereits den Truthahn selbst im Kühlschrank. Für eine klassische Zubereitung könnten dir jedoch noch einige Zutaten fehlen, abhängig davon, wie du den Truthahn zubereiten möchtest. Hier sind einige Vorschläge:\n",
      "\n",
      "1. **Gewürze und Kräuter**: Salz und Pfeffer sind Grundlagen, aber du könntest auch frische Kräuter wie Rosmarin, Thymian und Salbei hinzufügen, um den Geschmack zu verstärken. Diese sehe ich nicht in deinem Kühlschrank.\n",
      "\n",
      "2. **Butter oder Öl**: Zum Einreiben des Truthahns, um eine knusprige Haut zu bekommen. Butter sehe ich in deinem Kühlschrank, das sollte ausreichen.\n",
      "\n",
      "3. **Gemüse für die Füllung oder als Beilage**: Zwiebeln, Knoblauch, Möhren und Sellerie sind beliebt sowohl in der Füllung als auch als Aromageber beim Braten. Ich sehe einige Möhren und möglicherweise Knoblauch, aber Zwiebeln und Sellerie fehlen.\n",
      "\n",
      "4. **Brühe oder Fond**: Zum Aufgießen während des Bratens, um den Truthahn saftig zu halten und später eine Sauce oder Gravy zu machen. Ich sehe keine Brühe oder Fond in deinem Kühlschrank.\n",
      "\n",
      "5. **Beilagen**: Kartoffeln, Süßkartoffeln oder andere Wurzelgemüse, die du als Beilage servieren könntest. Diese sehe ich nicht in deinem Kühlschrank.\n",
      "\n",
      "6. **Füllung (optional)**: Brotwürfel, Eier und Gewürze, falls du eine Brotfüllung machen möchtest. Diese Zutaten sehe ich nicht.\n",
      "\n",
      "Überprüfe, welche dieser Zutaten du bereits hast und welche du noch besorgen musst, um deinen Truthahn nach deinem Geschmack zuzubereiten.\n"
     ]
    }
   ],
   "source": [
    "if __name__ == '__main__':\n",
    "    port = 8082\n",
    "    app.run(port=port)"
   ]
  },
  {
   "cell_type": "code",
   "execution_count": null,
   "id": "bb8f9348-424b-4784-b0b8-d8351c2bbb9a",
   "metadata": {},
   "outputs": [],
   "source": []
  }
 ],
 "metadata": {
  "kernelspec": {
   "display_name": "Python 3 (ipykernel)",
   "language": "python",
   "name": "python3"
  },
  "language_info": {
   "codemirror_mode": {
    "name": "ipython",
    "version": 3
   },
   "file_extension": ".py",
   "mimetype": "text/x-python",
   "name": "python",
   "nbconvert_exporter": "python",
   "pygments_lexer": "ipython3",
   "version": "3.11.7"
  }
 },
 "nbformat": 4,
 "nbformat_minor": 5
}
